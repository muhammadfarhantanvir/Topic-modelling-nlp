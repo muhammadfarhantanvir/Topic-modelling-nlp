{
 "cells": [
  {
   "cell_type": "code",
   "execution_count": 1,
   "id": "f8dd9af0",
   "metadata": {
    "ExecuteTime": {
     "end_time": "2023-09-27T13:00:46.290238Z",
     "start_time": "2023-09-27T13:00:33.220982Z"
    }
   },
   "outputs": [],
   "source": [
    "import pandas as pd\n",
    "import numpy as np\n",
    "from sklearn.feature_extraction.text import CountVectorizer\n",
    "from sklearn.decomposition import LatentDirichletAllocation\n",
    "from sklearn.cluster import AgglomerativeClustering\n",
    "from transformers import AutoTokenizer, AutoModel\n",
    "import scipy.cluster.hierarchy as sch\n",
    "import matplotlib.pyplot as plt\n",
    "import torch\n",
    "import nltk\n",
    "from nltk.corpus import stopwords\n",
    "import spacy\n",
    "from nltk.tokenize import word_tokenize\n",
    "from nltk.stem import SnowballStemmer, WordNetLemmatizer\n",
    "import string"
   ]
  },
  {
   "cell_type": "code",
   "execution_count": 3,
   "id": "a4834f0a",
   "metadata": {
    "ExecuteTime": {
     "end_time": "2023-09-24T07:15:47.643791Z",
     "start_time": "2023-09-24T07:15:44.278715Z"
    }
   },
   "outputs": [
    {
     "data": {
      "text/html": [
       "<div>\n",
       "<style scoped>\n",
       "    .dataframe tbody tr th:only-of-type {\n",
       "        vertical-align: middle;\n",
       "    }\n",
       "\n",
       "    .dataframe tbody tr th {\n",
       "        vertical-align: top;\n",
       "    }\n",
       "\n",
       "    .dataframe thead th {\n",
       "        text-align: right;\n",
       "    }\n",
       "</style>\n",
       "<table border=\"1\" class=\"dataframe\">\n",
       "  <thead>\n",
       "    <tr style=\"text-align: right;\">\n",
       "      <th></th>\n",
       "      <th>filename</th>\n",
       "      <th>content</th>\n",
       "      <th>SOM</th>\n",
       "      <th>location</th>\n",
       "      <th>call_duration</th>\n",
       "      <th>Ariadne_internal_ID</th>\n",
       "    </tr>\n",
       "  </thead>\n",
       "  <tbody>\n",
       "    <tr>\n",
       "      <th>0</th>\n",
       "      <td>SOM_118_00513_FA163E622DEB-1a7e-e29da700-832c3...</td>\n",
       "      <td>Herzlich willkommen bei O sein uns am Apparat ...</td>\n",
       "      <td>SOM</td>\n",
       "      <td>118</td>\n",
       "      <td>513</td>\n",
       "      <td>FA163E622DEB-1a7e-e29da700-832c3-64e3520f-7cef...</td>\n",
       "    </tr>\n",
       "    <tr>\n",
       "      <th>1</th>\n",
       "      <td>SOM_118_00513_FA163E52FD32-1a7e-2da87700-aa52c...</td>\n",
       "      <td>Willkommen bei der O Kundenbetreuung sie sprec...</td>\n",
       "      <td>SOM</td>\n",
       "      <td>118</td>\n",
       "      <td>513</td>\n",
       "      <td>FA163E52FD32-1a7e-2da87700-aa52c-64e76b65-aec3...</td>\n",
       "    </tr>\n",
       "    <tr>\n",
       "      <th>2</th>\n",
       "      <td>SOM_118_00513_FA163ED88855-1b1d-62522700-9f3ab...</td>\n",
       "      <td>Herzlich Willkommen hier ist die DSL und Techn...</td>\n",
       "      <td>SOM</td>\n",
       "      <td>118</td>\n",
       "      <td>513</td>\n",
       "      <td>FA163ED88855-1b1d-62522700-9f3ab-64e5fe14-2206...</td>\n",
       "    </tr>\n",
       "    <tr>\n",
       "      <th>3</th>\n",
       "      <td>SOM_118_00514_FA163E622DEB-1a7e-e61e1700-87f84...</td>\n",
       "      <td>Hallo schönen guten Tag herzlich willkommen be...</td>\n",
       "      <td>SOM</td>\n",
       "      <td>118</td>\n",
       "      <td>514</td>\n",
       "      <td>FA163E622DEB-1a7e-e61e1700-87f84-64e5d698-d607...</td>\n",
       "    </tr>\n",
       "    <tr>\n",
       "      <th>4</th>\n",
       "      <td>SOM_118_00259_FA163E52FD32-1a7e-2da87700-a5517...</td>\n",
       "      <td>Willkommen bei O so langsam Apparat\\nEs ging e...</td>\n",
       "      <td>SOM</td>\n",
       "      <td>118</td>\n",
       "      <td>259</td>\n",
       "      <td>FA163E52FD32-1a7e-2da87700-a5517-64e5eed0-89ea...</td>\n",
       "    </tr>\n",
       "    <tr>\n",
       "      <th>...</th>\n",
       "      <td>...</td>\n",
       "      <td>...</td>\n",
       "      <td>...</td>\n",
       "      <td>...</td>\n",
       "      <td>...</td>\n",
       "      <td>...</td>\n",
       "    </tr>\n",
       "    <tr>\n",
       "      <th>64530</th>\n",
       "      <td>SOM_VYD_-0001_FA163E56E95C-5e28-26ff4700-25e26...</td>\n",
       "      <td>Können sie mich hören hallo ja hallo ich habe ...</td>\n",
       "      <td>SOM</td>\n",
       "      <td>VYD</td>\n",
       "      <td>-1</td>\n",
       "      <td>FA163E56E95C-5e28-26ff4700-25e26-64e8d8b1-9987...</td>\n",
       "    </tr>\n",
       "    <tr>\n",
       "      <th>64531</th>\n",
       "      <td>SOM_VYD_-0001_FA163E52FD32-1a7e-3028c700-7a142...</td>\n",
       "      <td>Wunderschönen guten Tag und herzlich willkomme...</td>\n",
       "      <td>SOM</td>\n",
       "      <td>VYD</td>\n",
       "      <td>-1</td>\n",
       "      <td>FA163E52FD32-1a7e-3028c700-7a142-64e46468-1225...</td>\n",
       "    </tr>\n",
       "    <tr>\n",
       "      <th>64532</th>\n",
       "      <td>SOM_VYD_-0001_FA163E622DEB-1a7e-e41dd700-88d9b...</td>\n",
       "      <td>Ja hallo mein Name ist Ari guten sie mit so un...</td>\n",
       "      <td>SOM</td>\n",
       "      <td>VYD</td>\n",
       "      <td>-1</td>\n",
       "      <td>FA163E622DEB-1a7e-e41dd700-88d9b-64e70e8f-3d3a...</td>\n",
       "    </tr>\n",
       "    <tr>\n",
       "      <th>64533</th>\n",
       "      <td>SOM_VYD_-0001_FA163E44569D-1a89-b144b700-8492d...</td>\n",
       "      <td>Herr Müller sehr guten tag die Kollegin hat mi...</td>\n",
       "      <td>SOM</td>\n",
       "      <td>VYD</td>\n",
       "      <td>-1</td>\n",
       "      <td>FA163E44569D-1a89-b144b700-8492d-64e70077-5731...</td>\n",
       "    </tr>\n",
       "    <tr>\n",
       "      <th>64534</th>\n",
       "      <td>SOM_VYD_-0001_FA163ED88855-1b1d-62522700-a36c8...</td>\n",
       "      <td>Herr Schreiber to mein Name ist Nicola was kan...</td>\n",
       "      <td>SOM</td>\n",
       "      <td>VYD</td>\n",
       "      <td>-1</td>\n",
       "      <td>FA163ED88855-1b1d-62522700-a36c8-64e748ad-7a74...</td>\n",
       "    </tr>\n",
       "  </tbody>\n",
       "</table>\n",
       "<p>64535 rows × 6 columns</p>\n",
       "</div>"
      ],
      "text/plain": [
       "                                                filename  \\\n",
       "0      SOM_118_00513_FA163E622DEB-1a7e-e29da700-832c3...   \n",
       "1      SOM_118_00513_FA163E52FD32-1a7e-2da87700-aa52c...   \n",
       "2      SOM_118_00513_FA163ED88855-1b1d-62522700-9f3ab...   \n",
       "3      SOM_118_00514_FA163E622DEB-1a7e-e61e1700-87f84...   \n",
       "4      SOM_118_00259_FA163E52FD32-1a7e-2da87700-a5517...   \n",
       "...                                                  ...   \n",
       "64530  SOM_VYD_-0001_FA163E56E95C-5e28-26ff4700-25e26...   \n",
       "64531  SOM_VYD_-0001_FA163E52FD32-1a7e-3028c700-7a142...   \n",
       "64532  SOM_VYD_-0001_FA163E622DEB-1a7e-e41dd700-88d9b...   \n",
       "64533  SOM_VYD_-0001_FA163E44569D-1a89-b144b700-8492d...   \n",
       "64534  SOM_VYD_-0001_FA163ED88855-1b1d-62522700-a36c8...   \n",
       "\n",
       "                                                 content  SOM location  \\\n",
       "0      Herzlich willkommen bei O sein uns am Apparat ...  SOM      118   \n",
       "1      Willkommen bei der O Kundenbetreuung sie sprec...  SOM      118   \n",
       "2      Herzlich Willkommen hier ist die DSL und Techn...  SOM      118   \n",
       "3      Hallo schönen guten Tag herzlich willkommen be...  SOM      118   \n",
       "4      Willkommen bei O so langsam Apparat\\nEs ging e...  SOM      118   \n",
       "...                                                  ...  ...      ...   \n",
       "64530  Können sie mich hören hallo ja hallo ich habe ...  SOM      VYD   \n",
       "64531  Wunderschönen guten Tag und herzlich willkomme...  SOM      VYD   \n",
       "64532  Ja hallo mein Name ist Ari guten sie mit so un...  SOM      VYD   \n",
       "64533  Herr Müller sehr guten tag die Kollegin hat mi...  SOM      VYD   \n",
       "64534  Herr Schreiber to mein Name ist Nicola was kan...  SOM      VYD   \n",
       "\n",
       "       call_duration                                Ariadne_internal_ID  \n",
       "0                513  FA163E622DEB-1a7e-e29da700-832c3-64e3520f-7cef...  \n",
       "1                513  FA163E52FD32-1a7e-2da87700-aa52c-64e76b65-aec3...  \n",
       "2                513  FA163ED88855-1b1d-62522700-9f3ab-64e5fe14-2206...  \n",
       "3                514  FA163E622DEB-1a7e-e61e1700-87f84-64e5d698-d607...  \n",
       "4                259  FA163E52FD32-1a7e-2da87700-a5517-64e5eed0-89ea...  \n",
       "...              ...                                                ...  \n",
       "64530             -1  FA163E56E95C-5e28-26ff4700-25e26-64e8d8b1-9987...  \n",
       "64531             -1  FA163E52FD32-1a7e-3028c700-7a142-64e46468-1225...  \n",
       "64532             -1  FA163E622DEB-1a7e-e41dd700-88d9b-64e70e8f-3d3a...  \n",
       "64533             -1  FA163E44569D-1a89-b144b700-8492d-64e70077-5731...  \n",
       "64534             -1  FA163ED88855-1b1d-62522700-a36c8-64e748ad-7a74...  \n",
       "\n",
       "[64535 rows x 6 columns]"
      ]
     },
     "execution_count": 3,
     "metadata": {},
     "output_type": "execute_result"
    }
   ],
   "source": [
    "df = pd.read_csv('Topic data.csv')\n",
    "df"
   ]
  },
  {
   "cell_type": "code",
   "execution_count": 25,
   "id": "ecafc481",
   "metadata": {
    "ExecuteTime": {
     "end_time": "2023-09-24T09:14:23.565988Z",
     "start_time": "2023-09-24T09:14:23.547228Z"
    }
   },
   "outputs": [
    {
     "data": {
      "text/plain": [
       "location\n",
       "VYD    15508\n",
       "TPF     9448\n",
       "LUB     5033\n",
       "SKO     4917\n",
       "CCX     4896\n",
       "EPO     3990\n",
       "CHS     3743\n",
       "SLF     3339\n",
       "CHO     2908\n",
       "SJJ     2856\n",
       "135     2140\n",
       "CDA     1188\n",
       "138      996\n",
       "POT      892\n",
       "AMV      861\n",
       "141      573\n",
       "118      444\n",
       "NBS      388\n",
       "NUE      344\n",
       "SZW       71\n",
       "Name: count, dtype: int64"
      ]
     },
     "execution_count": 25,
     "metadata": {},
     "output_type": "execute_result"
    }
   ],
   "source": [
    "# Frequency counts for categorical columns\n",
    "location_counts = df['location'].value_counts()\n",
    "\n",
    "location_counts\n"
   ]
  },
  {
   "cell_type": "code",
   "execution_count": 26,
   "id": "ff9fb44a",
   "metadata": {
    "ExecuteTime": {
     "end_time": "2023-09-24T09:15:13.959140Z",
     "start_time": "2023-09-24T09:15:13.945193Z"
    }
   },
   "outputs": [
    {
     "data": {
      "text/plain": [
       "SOM\n",
       "SOM    64535\n",
       "Name: count, dtype: int64"
      ]
     },
     "execution_count": 26,
     "metadata": {},
     "output_type": "execute_result"
    }
   ],
   "source": [
    "som_counts = df['SOM'].value_counts()\n",
    "som_counts"
   ]
  },
  {
   "cell_type": "code",
   "execution_count": 23,
   "id": "429a2c1b",
   "metadata": {
    "ExecuteTime": {
     "end_time": "2023-09-24T09:14:06.914650Z",
     "start_time": "2023-09-24T09:14:06.894440Z"
    }
   },
   "outputs": [
    {
     "data": {
      "text/html": [
       "<div>\n",
       "<style scoped>\n",
       "    .dataframe tbody tr th:only-of-type {\n",
       "        vertical-align: middle;\n",
       "    }\n",
       "\n",
       "    .dataframe tbody tr th {\n",
       "        vertical-align: top;\n",
       "    }\n",
       "\n",
       "    .dataframe thead th {\n",
       "        text-align: right;\n",
       "    }\n",
       "</style>\n",
       "<table border=\"1\" class=\"dataframe\">\n",
       "  <thead>\n",
       "    <tr style=\"text-align: right;\">\n",
       "      <th></th>\n",
       "      <th>call_duration</th>\n",
       "    </tr>\n",
       "  </thead>\n",
       "  <tbody>\n",
       "    <tr>\n",
       "      <th>count</th>\n",
       "      <td>64535.000000</td>\n",
       "    </tr>\n",
       "    <tr>\n",
       "      <th>mean</th>\n",
       "      <td>532.614132</td>\n",
       "    </tr>\n",
       "    <tr>\n",
       "      <th>std</th>\n",
       "      <td>2872.453512</td>\n",
       "    </tr>\n",
       "    <tr>\n",
       "      <th>min</th>\n",
       "      <td>-2693.000000</td>\n",
       "    </tr>\n",
       "    <tr>\n",
       "      <th>25%</th>\n",
       "      <td>224.000000</td>\n",
       "    </tr>\n",
       "    <tr>\n",
       "      <th>50%</th>\n",
       "      <td>405.000000</td>\n",
       "    </tr>\n",
       "    <tr>\n",
       "      <th>75%</th>\n",
       "      <td>690.000000</td>\n",
       "    </tr>\n",
       "    <tr>\n",
       "      <th>max</th>\n",
       "      <td>720346.000000</td>\n",
       "    </tr>\n",
       "  </tbody>\n",
       "</table>\n",
       "</div>"
      ],
      "text/plain": [
       "       call_duration\n",
       "count   64535.000000\n",
       "mean      532.614132\n",
       "std      2872.453512\n",
       "min     -2693.000000\n",
       "25%       224.000000\n",
       "50%       405.000000\n",
       "75%       690.000000\n",
       "max    720346.000000"
      ]
     },
     "execution_count": 23,
     "metadata": {},
     "output_type": "execute_result"
    }
   ],
   "source": [
    "df.describe()"
   ]
  },
  {
   "cell_type": "code",
   "execution_count": 21,
   "id": "dfbac56c",
   "metadata": {
    "ExecuteTime": {
     "end_time": "2023-09-24T09:10:45.440058Z",
     "start_time": "2023-09-24T09:10:44.846012Z"
    }
   },
   "outputs": [
    {
     "data": {
      "image/png": "[encoded data removed]",
      "text/plain": [
       "<Figure size 640x480 with 1 Axes>"
      ]
     },
     "metadata": {},
     "output_type": "display_data"
    },
    {
     "data": {
      "image/png": "[encoded data removed]",
      "text/plain": [
       "<Figure size 640x480 with 1 Axes>"
      ]
     },
     "metadata": {},
     "output_type": "display_data"
    }
   ],
   "source": [
    "\n",
    "\n",
    "# Histogram for call_duration\n",
    "plt.hist(df['call_duration'])\n",
    "plt.xlabel('Call Duration')\n",
    "plt.ylabel('Frequency')\n",
    "plt.title('Call Duration Distribution')\n",
    "plt.show()\n",
    "\n",
    "# Bar chart for location counts\n",
    "location_counts.plot(kind='bar')\n",
    "plt.xlabel('Location')\n",
    "plt.ylabel('Count')\n",
    "plt.title('Location Distribution')\n",
    "plt.show()\n"
   ]
  },
  {
   "cell_type": "code",
   "execution_count": null,
   "id": "fca44d65",
   "metadata": {},
   "outputs": [],
   "source": []
  },
  {
   "cell_type": "code",
   "execution_count": 3,
   "id": "c25154d8",
   "metadata": {
    "ExecuteTime": {
     "end_time": "2023-09-19T09:29:44.635761Z",
     "start_time": "2023-09-19T08:00:21.593534Z"
    }
   },
   "outputs": [
    {
     "data": {
      "text/html": [
       "<div>\n",
       "<style scoped>\n",
       "    .dataframe tbody tr th:only-of-type {\n",
       "        vertical-align: middle;\n",
       "    }\n",
       "\n",
       "    .dataframe tbody tr th {\n",
       "        vertical-align: top;\n",
       "    }\n",
       "\n",
       "    .dataframe thead th {\n",
       "        text-align: right;\n",
       "    }\n",
       "</style>\n",
       "<table border=\"1\" class=\"dataframe\">\n",
       "  <thead>\n",
       "    <tr style=\"text-align: right;\">\n",
       "      <th></th>\n",
       "      <th>filename</th>\n",
       "      <th>content</th>\n",
       "      <th>SOM</th>\n",
       "      <th>location</th>\n",
       "      <th>call_duration</th>\n",
       "      <th>Ariadne_internal_ID</th>\n",
       "    </tr>\n",
       "  </thead>\n",
       "  <tbody>\n",
       "    <tr>\n",
       "      <th>0</th>\n",
       "      <td>SOM_118_00513_FA163E622DEB-1a7e-e29da700-832c3...</td>\n",
       "      <td>Herzlich willkommen bei sein uns am Apparat wa...</td>\n",
       "      <td>SOM</td>\n",
       "      <td>118</td>\n",
       "      <td>513</td>\n",
       "      <td>FA163E622DEB-1a7e-e29da700-832c3-64e3520f-7cef...</td>\n",
       "    </tr>\n",
       "    <tr>\n",
       "      <th>1</th>\n",
       "      <td>SOM_118_00513_FA163E52FD32-1a7e-2da87700-aa52c...</td>\n",
       "      <td>Willkommen bei der Kundenbetreuung sie spreche...</td>\n",
       "      <td>SOM</td>\n",
       "      <td>118</td>\n",
       "      <td>513</td>\n",
       "      <td>FA163E52FD32-1a7e-2da87700-aa52c-64e76b65-aec3...</td>\n",
       "    </tr>\n",
       "    <tr>\n",
       "      <th>2</th>\n",
       "      <td>SOM_118_00513_FA163ED88855-1b1d-62522700-9f3ab...</td>\n",
       "      <td>hier ist die und Technik Abteilung ich bräucht...</td>\n",
       "      <td>SOM</td>\n",
       "      <td>118</td>\n",
       "      <td>513</td>\n",
       "      <td>FA163ED88855-1b1d-62522700-9f3ab-64e5fe14-2206...</td>\n",
       "    </tr>\n",
       "    <tr>\n",
       "      <th>3</th>\n",
       "      <td>SOM_118_00514_FA163E622DEB-1a7e-e61e1700-87f84...</td>\n",
       "      <td>schönen guten Tag herzlich willkommen bei ihne...</td>\n",
       "      <td>SOM</td>\n",
       "      <td>118</td>\n",
       "      <td>514</td>\n",
       "      <td>FA163E622DEB-1a7e-e61e1700-87f84-64e5d698-d607...</td>\n",
       "    </tr>\n",
       "    <tr>\n",
       "      <th>4</th>\n",
       "      <td>SOM_118_00259_FA163E52FD32-1a7e-2da87700-a5517...</td>\n",
       "      <td>Willkommen bei so langsam Apparat \\n Es ging e...</td>\n",
       "      <td>SOM</td>\n",
       "      <td>118</td>\n",
       "      <td>259</td>\n",
       "      <td>FA163E52FD32-1a7e-2da87700-a5517-64e5eed0-89ea...</td>\n",
       "    </tr>\n",
       "  </tbody>\n",
       "</table>\n",
       "</div>"
      ],
      "text/plain": [
       "                                            filename  \\\n",
       "0  SOM_118_00513_FA163E622DEB-1a7e-e29da700-832c3...   \n",
       "1  SOM_118_00513_FA163E52FD32-1a7e-2da87700-aa52c...   \n",
       "2  SOM_118_00513_FA163ED88855-1b1d-62522700-9f3ab...   \n",
       "3  SOM_118_00514_FA163E622DEB-1a7e-e61e1700-87f84...   \n",
       "4  SOM_118_00259_FA163E52FD32-1a7e-2da87700-a5517...   \n",
       "\n",
       "                                             content  SOM location  \\\n",
       "0  Herzlich willkommen bei sein uns am Apparat wa...  SOM      118   \n",
       "1  Willkommen bei der Kundenbetreuung sie spreche...  SOM      118   \n",
       "2  hier ist die und Technik Abteilung ich bräucht...  SOM      118   \n",
       "3  schönen guten Tag herzlich willkommen bei ihne...  SOM      118   \n",
       "4  Willkommen bei so langsam Apparat \\n Es ging e...  SOM      118   \n",
       "\n",
       "   call_duration                                Ariadne_internal_ID  \n",
       "0            513  FA163E622DEB-1a7e-e29da700-832c3-64e3520f-7cef...  \n",
       "1            513  FA163E52FD32-1a7e-2da87700-aa52c-64e76b65-aec3...  \n",
       "2            513  FA163ED88855-1b1d-62522700-9f3ab-64e5fe14-2206...  \n",
       "3            514  FA163E622DEB-1a7e-e61e1700-87f84-64e5d698-d607...  \n",
       "4            259  FA163E52FD32-1a7e-2da87700-a5517-64e5eed0-89ea...  "
      ]
     },
     "execution_count": 3,
     "metadata": {},
     "output_type": "execute_result"
    }
   ],
   "source": [
    "# Load the spaCy German language model\n",
    "nlp = spacy.load('de_core_news_sm')\n",
    "# Create an empty list to store the updated text without proper names\n",
    "updated_texts = []\n",
    "# Iterate over the text column and remove proper names using spaCy\n",
    "for text in df['content']:\n",
    "    doc = nlp(text)\n",
    "    tokens = []\n",
    "    for token in doc:\n",
    "        if token.pos_ != 'PROPN':\n",
    "            tokens.append(token.text)\n",
    "    updated_texts.append(' '.join(tokens))\n",
    "# Update the 'text' column with the modified text\n",
    "df['content'] = updated_texts\n",
    "\n",
    "# Print the updated dataset\n",
    "df.head()"
   ]
  },
  {
   "cell_type": "code",
   "execution_count": 8,
   "id": "550fbe3e",
   "metadata": {
    "ExecuteTime": {
     "end_time": "2023-09-24T08:01:04.102913Z",
     "start_time": "2023-09-24T07:58:16.209923Z"
    }
   },
   "outputs": [
    {
     "name": "stderr",
     "output_type": "stream",
     "text": [
      "[nltk_data] Downloading package stopwords to C:\\Users\\Muhammad\n",
      "[nltk_data]     Farhan\\AppData\\Roaming\\nltk_data...\n",
      "[nltk_data]   Package stopwords is already up-to-date!\n",
      "[nltk_data] Downloading package punkt to C:\\Users\\Muhammad\n",
      "[nltk_data]     Farhan\\AppData\\Roaming\\nltk_data...\n",
      "[nltk_data]   Package punkt is already up-to-date!\n",
      "[nltk_data] Downloading package wordnet to C:\\Users\\Muhammad\n",
      "[nltk_data]     Farhan\\AppData\\Roaming\\nltk_data...\n",
      "[nltk_data]   Package wordnet is already up-to-date!\n"
     ]
    },
    {
     "name": "stdout",
     "output_type": "stream",
     "text": [
      "0        herzlich willkomm apparat tun muss mal guck ko...\n",
      "1        willkomm kundenbetreu sprech maximilian nikola...\n",
      "2        herzlich willkomm dsl technik abteil braucht k...\n",
      "3        hallo schon gut tag herzlich willkomm protoser...\n",
      "4        willkomm langsam apparat ging halt rahm suppor...\n",
      "                               ...                        \n",
      "64530    hor hallo hallo gerad kolleg gesproch weiterge...\n",
      "64531    wunderschon gut tag herzlich willkomm ausgezei...\n",
      "64532    hallo nam ari gut wurd weitergeleitet indizier...\n",
      "64533    herr mull gut tag kollegin gesagt problem rout...\n",
      "64534    herr schreib nam nicola tun hallo person kunde...\n",
      "Name: content, Length: 64535, dtype: object\n"
     ]
    }
   ],
   "source": [
    "# Download the NLTK stop words list and wordnet for lemmatization\n",
    "nltk.download('stopwords')\n",
    "nltk.download('punkt')\n",
    "nltk.download('wordnet')\n",
    "\n",
    "# Initialize the Snowball stemmer and WordNet lemmatizer\n",
    "stemmer = SnowballStemmer(\"german\")  # Use the appropriate language for stemming\n",
    "lemmatizer = WordNetLemmatizer()\n",
    "\n",
    "# Define a function to preprocess text\n",
    "def preprocess_text(text):\n",
    "    # Tokenize the text\n",
    "    tokens = word_tokenize(text)\n",
    "    \n",
    "    # Remove punctuation and convert to lowercase\n",
    "    tokens = [word.lower() for word in tokens if word.isalnum()]\n",
    "    \n",
    "    # Remove stopwords\n",
    "    stop_words = set(stopwords.words('german'))  # Use the appropriate language\n",
    "    tokens = [word for word in tokens if word not in stop_words]\n",
    "    \n",
    "    # Remove short words (length < 3 characters)\n",
    "    tokens = [word for word in tokens if len(word) > 2]\n",
    "    \n",
    "    # Lemmatize or stem the words\n",
    "    # Uncomment one of the following lines based on your choice\n",
    "    # tokens = [lemmatizer.lemmatize(word) for word in tokens]  # Lemmatization\n",
    "    tokens = [stemmer.stem(word) for word in tokens]  # Stemming\n",
    "    \n",
    "    # Join the cleaned tokens back into a single string\n",
    "    cleaned_text = ' '.join(tokens)\n",
    "    \n",
    "    return cleaned_text\n",
    "\n",
    "# Apply the preprocessing function to the DataFrame\n",
    "df['content'] = df['content'].apply(preprocess_text)\n",
    "\n",
    "# Print the cleaned DataFrame\n",
    "print(df['content'])\n"
   ]
  },
  {
   "cell_type": "code",
   "execution_count": 12,
   "id": "f076adc7",
   "metadata": {
    "ExecuteTime": {
     "end_time": "2023-09-24T08:13:59.796552Z",
     "start_time": "2023-09-24T08:13:50.276521Z"
    }
   },
   "outputs": [
    {
     "data": {
      "text/plain": [
       "0        apparat konto sau aktuell stand ding gemeldet ...\n",
       "1        kundenbetreu sprech maximilian nikolaus storni...\n",
       "2        dsl technik abteil braucht kundennumm abgleich...\n",
       "3        protoservic labitar motor internet haus funkti...\n",
       "4        langsam apparat ging rahm support kund gemeins...\n",
       "                               ...                        \n",
       "64530    hor gesproch weitergeleitet desweg myhom myhom...\n",
       "64531    wunderschon ausgezeichnet wichtig technik schm...\n",
       "64532    ari weitergeleitet indiziert adress postleitza...\n",
       "64533    mull kollegin problem korrekt fehlermeld verst...\n",
       "64534    schreib nicola worum rechnung ruf handynumm fo...\n",
       "Name: content, Length: 64535, dtype: object"
      ]
     },
     "execution_count": 12,
     "metadata": {},
     "output_type": "execute_result"
    }
   ],
   "source": [
    "# Words to remove\n",
    "words_to_remove = ['bitt', 'mal', 'schon', 'genau', 'dank', 'gut', 'tag', 'numm', 'person', 'kurz', \n",
    "                   'einfach', 'neu', 'schau', 'moment', 'sag', 'muss', 'geht', 'fall', 'ganz', 'war', 'gern', 'frag', \n",
    "                   'gleich',\n",
    "                  'guck', 'imm', 'halt', 'wurd', 'seh', 'natur', 'quasi', 'gerad', 'bekomm', 'rout', 'gesagt', 'nein', \n",
    "                   'tun', 'syst',\n",
    "                  'mehr', 'mocht', 'box', 'geh', 'zugangsdat', 'passwort', 'kennwort', 'steht','seit', 'klein', 'bekomm', 'rufnumm', \n",
    "                   'kundenkennzahl', 'leid', 'tun', 'nam', 'per', 'willkomm', 'herzlich', 'gemacht', 'bleib', 'herr',\n",
    "                   'kolleg',\n",
    "                   'schick', 'frau', 'geb', 'richtig', 'vielleicht', 'viel','kart', 'brot', 'brauch',\n",
    "                  'erst', 'gibt', 'kommt', 'moglich',  'pro', 'iphon', 'sekund', 'minut', 'wirklich', 'krieg',\n",
    "                   'tatsach', 'musst', 'weiss',  'darf', 'find', 'gar', 'probl' , 'nee', 'klar', 'tschuss', 'heut', 'uhr', 'anruf', \n",
    "                   'wunsch', 'dat' , 'hallo', 'kundig']\n",
    "\n",
    "# Function to remove specified words from text\n",
    "def remove_specific_words(text):\n",
    "    # Tokenize the text\n",
    "    tokens = text.split()\n",
    "    \n",
    "    # Filter out words to remove\n",
    "    filtered_tokens = [word for word in tokens if word not in words_to_remove]\n",
    "    \n",
    "    # Join the remaining tokens back into a single string\n",
    "    cleaned_text = ' '.join(filtered_tokens)\n",
    "    \n",
    "    return cleaned_text\n",
    "\n",
    "# Apply the function to the 'cleaned_text' column\n",
    "df['content'] = df['content'].apply(remove_specific_words)\n",
    "\n",
    "# Print the cleaned DataFrame\n",
    "df['content']\n"
   ]
  },
  {
   "cell_type": "code",
   "execution_count": 13,
   "id": "f0e12f7a",
   "metadata": {
    "ExecuteTime": {
     "end_time": "2023-09-24T08:14:15.613746Z",
     "start_time": "2023-09-24T08:14:11.746284Z"
    }
   },
   "outputs": [],
   "source": [
    "# Step 1: Topic Modeling (LDA)\n",
    "# Convert text data to a document-term matrix\n",
    "vectorizer = CountVectorizer()\n",
    "dtm = vectorizer.fit_transform(df['content'])\n",
    "\n"
   ]
  },
  {
   "cell_type": "code",
   "execution_count": 14,
   "id": "13e22772",
   "metadata": {
    "ExecuteTime": {
     "end_time": "2023-09-24T08:18:37.523613Z",
     "start_time": "2023-09-24T08:14:20.677950Z"
    }
   },
   "outputs": [
    {
     "name": "stdout",
     "output_type": "stream",
     "text": [
      "Top words for each topic:\n",
      "Topic 1: sms, bewert, storung, sup, gesprach, weit, uberpruf, best, weiterhelf, wart\n",
      "Topic 2: internet, wlan, fritz, dsl, kabel, leitung, verbind, funktioniert, hom, spot\n",
      "Topic 3: sms, formular, handy, link, alt, vertrag, eben, blau, gerat, portier\n",
      "Topic 4: technik, adress, termin, dsl, leitung, anschluss, strass, umzug, telekom, vertrag\n",
      "Topic 5: vertrag, rechnung, kundennumm, monat, august, versteh, end, letzt, bestat, gekundigt\n",
      "Topic 6: tarif, sms, vertrag, handy, monat, eigent, angebot, sup, beispiel, rein\n",
      "Topic 7: monat, vertrag, tarif, rabatt, angebot, handy, jahr, preis, weit, kostet\n"
     ]
    }
   ],
   "source": [
    "# Apply LDA for topic modeling\n",
    "num_topics = 7  # Adjust the number of topics as needed\n",
    "lda = LatentDirichletAllocation(n_components=num_topics, random_state=42)\n",
    "lda.fit(dtm)\n",
    "\n",
    "# Get the top words for each topic\n",
    "def get_top_words(model, vectorizer, n_words=10):\n",
    "    words = vectorizer.get_feature_names_out()\n",
    "    topics = {}\n",
    "    for topic_idx, topic in enumerate(model.components_):\n",
    "        top_word_idx = topic.argsort()[:-n_words - 1:-1]\n",
    "        top_words = [words[i] for i in top_word_idx]\n",
    "        topics[f\"Topic {topic_idx + 1}\"] = top_words\n",
    "    return topics\n",
    "\n",
    "topics = get_top_words(lda, vectorizer)\n",
    "print(\"Top words for each topic:\")\n",
    "for topic, top_words in topics.items():\n",
    "    print(f\"{topic}: {', '.join(top_words)}\")"
   ]
  },
  {
   "cell_type": "code",
   "execution_count": null,
   "id": "1706c061",
   "metadata": {},
   "outputs": [],
   "source": []
  },
  {
   "cell_type": "code",
   "execution_count": null,
   "id": "ef59ed55",
   "metadata": {},
   "outputs": [],
   "source": []
  }
 ],
 "metadata": {
  "kernelspec": {
   "display_name": "Python 3 (ipykernel)",
   "language": "python",
   "name": "python3"
  },
  "language_info": {
   "codemirror_mode": {
    "name": "ipython",
    "version": 3
   },
   "file_extension": ".py",
   "mimetype": "text/x-python",
   "name": "python",
   "nbconvert_exporter": "python",
   "pygments_lexer": "ipython3",
   "version": "3.11.3"
  },
  "nbTranslate": {
   "displayLangs": [
    "*"
   ],
   "hotkey": "alt-t",
   "langInMainMenu": true,
   "sourceLang": "en",
   "targetLang": "fr",
   "useGoogleTranslate": true
  },
  "varInspector": {
   "cols": {
    "lenName": 16,
    "lenType": 16,
    "lenVar": 40
   },
   "kernels_config": {
    "python": {
     "delete_cmd_postfix": "",
     "delete_cmd_prefix": "del ",
     "library": "var_list.py",
     "varRefreshCmd": "print(var_dic_list())"
    },
    "r": {
     "delete_cmd_postfix": ") ",
     "delete_cmd_prefix": "rm(",
     "library": "var_list.r",
     "varRefreshCmd": "cat(var_dic_list()) "
    }
   },
   "types_to_exclude": [
    "module",
    "function",
    "builtin_function_or_method",
    "instance",
    "_Feature"
   ],
   "window_display": false
  }
 },
 "nbformat": 4,
 "nbformat_minor": 5
}
